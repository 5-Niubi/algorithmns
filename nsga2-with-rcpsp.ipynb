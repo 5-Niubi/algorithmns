{
 "cells": [
  {
   "cell_type": "code",
   "execution_count": 1,
   "metadata": {},
   "outputs": [],
   "source": [
    "import json\n",
    "from graph import ScheduleGraph\n",
    "import pandas as pd\n",
    "import numpy as np\n",
    "import time\n",
    "import copy"
   ]
  },
  {
   "attachments": {},
   "cell_type": "markdown",
   "metadata": {},
   "source": [
    "## 1. Setup Graph"
   ]
  },
  {
   "cell_type": "code",
   "execution_count": 2,
   "metadata": {},
   "outputs": [],
   "source": [
    "schedule_graph = ScheduleGraph(schedule_name = \"schedule-demo\")"
   ]
  },
  {
   "attachments": {},
   "cell_type": "markdown",
   "metadata": {},
   "source": [
    "## 3. Load Schedule"
   ]
  },
  {
   "cell_type": "code",
   "execution_count": 3,
   "metadata": {},
   "outputs": [],
   "source": [
    "schedule_data_path = 'data/schedule.json'\n",
    "f = open(schedule_data_path, 'rb')\n",
    "schedule_data = json.load(f)"
   ]
  },
  {
   "cell_type": "code",
   "execution_count": 4,
   "metadata": {},
   "outputs": [],
   "source": [
    "schedule_graph.load_schedule(schedule_data)"
   ]
  },
  {
   "cell_type": "code",
   "execution_count": 5,
   "metadata": {},
   "outputs": [
    {
     "data": {
      "text/plain": [
       "NodeDataView({'START': {'duration': 0, 'required_skills': {}, 'start_time': 0, 'finish_time': 0}, 'T1.1': {'duration': 3, 'required_skills': {'S4': 1, 'S5': 1, 'S6': 1}, 'start_time': 0, 'finish_time': 0}, 'T1.2': {'duration': 5, 'required_skills': {'S3': 2, 'S4': 1}, 'start_time': 0, 'finish_time': 0}, 'T1.3': {'duration': 5, 'required_skills': {'S5': 1, 'S4': 1}, 'start_time': 0, 'finish_time': 0}, 'END': {'duration': 0, 'required_skills': {}, 'start_time': 0, 'finish_time': 0}})"
      ]
     },
     "execution_count": 5,
     "metadata": {},
     "output_type": "execute_result"
    }
   ],
   "source": [
    "schedule_graph.nodes(data=True)"
   ]
  },
  {
   "cell_type": "code",
   "execution_count": 6,
   "metadata": {},
   "outputs": [
    {
     "data": {
      "image/png": "[encoded data removed]",
      "text/plain": [
       "<Figure size 640x480 with 2 Axes>"
      ]
     },
     "metadata": {},
     "output_type": "display_data"
    },
    {
     "data": {
      "text/plain": [
       "<Figure size 1000x600 with 0 Axes>"
      ]
     },
     "metadata": {},
     "output_type": "display_data"
    }
   ],
   "source": [
    "schedule_graph.task_similarity_heatmap()"
   ]
  },
  {
   "attachments": {},
   "cell_type": "markdown",
   "metadata": {},
   "source": [
    "## 2. Load workforce"
   ]
  },
  {
   "cell_type": "code",
   "execution_count": 7,
   "metadata": {},
   "outputs": [],
   "source": [
    "WORKFORCE_DATA_PATH = '/Users/pvm/Desktop/Đồ Án/data/workforces.json'\n",
    "f = open(WORKFORCE_DATA_PATH, 'rb')\n",
    "workforce_data = json.load(f)\n",
    "schedule_graph.load_workforce(workforce_data = workforce_data)"
   ]
  },
  {
   "attachments": {},
   "cell_type": "markdown",
   "metadata": {},
   "source": [
    "# 4. Load Contraints"
   ]
  },
  {
   "attachments": {},
   "cell_type": "markdown",
   "metadata": {},
   "source": [
    "## NSGA2 helper"
   ]
  },
  {
   "attachments": {},
   "cell_type": "markdown",
   "metadata": {},
   "source": [
    "### 1. Initial population"
   ]
  },
  {
   "cell_type": "code",
   "execution_count": 8,
   "metadata": {},
   "outputs": [],
   "source": [
    "import numpy as np\n",
    "\n",
    "def initial_popular(graph: ScheduleGraph, population_size: int):\n",
    "    num_of_tasks = len(graph.task_list)\n",
    "    population_list = np.empty((population_size, num_of_tasks), dtype=int)\n",
    "    workforce_list = graph.workforce_list\n",
    "    for i in range(population_size):\n",
    "        for j in range(num_of_tasks):\n",
    "            task = graph.task_list[j]\n",
    "            available_workforce = graph.nodes[task]['available_workforce']\n",
    "            available_workforce_indices = [index for index, value in enumerate(available_workforce.values()) if value]\n",
    "            selected_index = np.random.choice(available_workforce_indices)\n",
    "            selected_workforce = list(available_workforce.keys())[selected_index]\n",
    "            population_list[i, j] = workforce_list.index(selected_workforce)\n",
    "\n",
    "    return population_list\n",
    "\n",
    "    # print(f\"popular shape: {population_list.shape}\")"
   ]
  },
  {
   "cell_type": "code",
   "execution_count": 9,
   "metadata": {},
   "outputs": [],
   "source": [
    "def crossover(population_list, num_task: int, population_size: int):\n",
    "    cosssover_offspring = [] # danh sách con cái được tạo ra từ crossover\n",
    "    # Lấy ngẫu nhiên 2 parents\n",
    "    random_parent_indices = list(np.random.permutation(population_size)) # generate a random sequence to select the parent chromosome to crossover\n",
    "    \n",
    "    for m in range(int(population_size/2)):\n",
    "        parent_1= population_list[random_parent_indices[2*m]][:]\n",
    "\n",
    "        parent_2= population_list[random_parent_indices[2*m+1]][:]\n",
    "        child_1=parent_1[:]\n",
    "        child_2=parent_2[:]\n",
    "        \n",
    "        # Lấy ngẫu nhiên 2 đoạn bất kỳ trong parent 1 chuyển cho parent 2\n",
    "        cutpoint=list(np.random.choice(num_task, 2, replace=False))\n",
    "        cutpoint.sort()\n",
    "        child_1[cutpoint[0]:cutpoint[1]]=parent_2[cutpoint[0]:cutpoint[1]]\n",
    "        child_2[cutpoint[0]:cutpoint[1]]=parent_1[cutpoint[0]:cutpoint[1]]\n",
    "        \n",
    "        cosssover_offspring.extend((child_1,child_2))\n",
    "    return cosssover_offspring\n",
    "\n",
    "\n",
    "    "
   ]
  },
  {
   "cell_type": "code",
   "execution_count": 10,
   "metadata": {},
   "outputs": [],
   "source": [
    "def mutation(offspring_list, num_task: int, muation_selection_rate: float, muation_rate: float):\n",
    "    num_mutation_jobs = round(num_task*muation_selection_rate)\n",
    "    # Thực hiện đảo ngược 1 gen\n",
    "    for m in range(len(offspring_list)):\n",
    "        mutation_prob=np.random.rand()\n",
    "        if muation_rate <= mutation_prob:\n",
    "            # chooses the position to mutation\n",
    "            m_chg=list(np.random.choice(num_task, num_mutation_jobs, replace=False))\n",
    "            # save the value which is on the first mutation position\n",
    "            \n",
    "            t_value_last=offspring_list[m][m_chg[0]] \n",
    "            \n",
    "            for i in range(num_mutation_jobs-1):\n",
    "                offspring_list[m][m_chg[i]]=offspring_list[m][m_chg[i+1]] # displacement\n",
    "            \n",
    "            offspring_list[m][m_chg[num_mutation_jobs-1]]=t_value_last\n",
    "\n",
    "    return offspring_list"
   ]
  },
  {
   "cell_type": "code",
   "execution_count": 11,
   "metadata": {},
   "outputs": [],
   "source": [
    "def non_dominated_sorting(population_size, chroms_obj_record):\n",
    "    solution, non_dominate = {}, {}\n",
    "    front, rank = {}, {}\n",
    "    front[0] = []\n",
    "\n",
    "    for p in range(population_size*2):\n",
    "        solution[p] = []\n",
    "        non_dominate[p] = 0\n",
    "        for q in range(population_size * 2):\n",
    "            is_dominated = False\n",
    "            dominated_count = 0\n",
    "            for obj in range(len(chroms_obj_record[p])):\n",
    "               \n",
    "                if chroms_obj_record[p][obj] > chroms_obj_record[q][obj]:\n",
    "                    dominated_count += 1\n",
    "                elif chroms_obj_record[p][obj] < chroms_obj_record[q][obj]:\n",
    "                    is_dominated = True\n",
    "                    break\n",
    "               \n",
    "            if is_dominated:\n",
    "                if q not in solution[p]:\n",
    "                    solution[p].append(q)\n",
    "\n",
    "            elif not is_dominated and dominated_count == len(chroms_obj_record[p]):\n",
    "                non_dominate[p] = non_dominate[p] + 1\n",
    "\n",
    "    \n",
    "        if non_dominate[p] == 0:\n",
    "            rank[p] = 0\n",
    "            if p not in front[0]:\n",
    "                front[0].append(p)\n",
    "    \n",
    "    \n",
    "    i = 0\n",
    "    start_time = time.time()\n",
    "    while front[i] != []:\n",
    "        Q = []\n",
    "        for p in front[i]:\n",
    "            for q in solution[p]:\n",
    "                non_dominate[q] = non_dominate[q] - 1\n",
    "                if non_dominate[q] == 0:\n",
    "                    rank[q] = i + 1\n",
    "                    if q not in Q:\n",
    "                        Q.append(q)\n",
    "        i = i + 1\n",
    "        front[i] = Q\n",
    "\n",
    "    del front[len(front) - 1]\n",
    "    return front\n",
    "\n",
    "\n",
    "def calculate_crowding_distance(front,chroms_obj_record):\n",
    "    distance={m:0 for m in front}\n",
    "    for o in range(len(chroms_obj_record[0])):\n",
    "        obj={m:chroms_obj_record[m][o] for m in front}\n",
    "        sorted_keys=sorted(obj, key=obj.get)\n",
    "        distance[sorted_keys[0]]=distance[sorted_keys[len(front)-1]]=999999999999\n",
    "        for i in range(1,len(front)-1):\n",
    "            if len(set(obj.values()))==1:\n",
    "                distance[sorted_keys[i]]=distance[sorted_keys[i]]\n",
    "            else:\n",
    "                distance[sorted_keys[i]]=distance[sorted_keys[i]]+(obj[sorted_keys[i+1]]-obj[sorted_keys[i-1]])/(obj[sorted_keys[len(front)-1]]-obj[sorted_keys[0]])\n",
    "            \n",
    "    return distance  "
   ]
  },
  {
   "cell_type": "code",
   "execution_count": 12,
   "metadata": {},
   "outputs": [],
   "source": [
    "\n",
    "def selection(front, population_size: int, chroms_obj_record: list, total_chromosome: list):   \n",
    "    N=0\n",
    "    new_pop=[]\n",
    "    while N < population_size:\n",
    "        for i in range(len(front)):\n",
    "            N=N+len(front[i])\n",
    "            if N > population_size:\n",
    "                # Compare on each front after append solution with higher distance to new_pop\n",
    "                distance=calculate_crowding_distance(front[i],chroms_obj_record)\n",
    "                sorted_cdf=sorted(distance, key=distance.get)\n",
    "                sorted_cdf.reverse()\n",
    "                for j in sorted_cdf:\n",
    "                    if len(new_pop)==population_size:\n",
    "                        break                \n",
    "                    new_pop.append(j)              \n",
    "                break\n",
    "            else:\n",
    "                new_pop.extend(front[i])\n",
    "    \n",
    "    population_list=[]\n",
    "    for n in new_pop:\n",
    "        population_list.append(total_chromosome[n])\n",
    "    \n",
    "    return population_list, new_pop"
   ]
  },
  {
   "cell_type": "code",
   "execution_count": 13,
   "metadata": {},
   "outputs": [],
   "source": [
    "def compute_fitness(graph_copy: ScheduleGraph, total_chromosome: list, population_size: int):\n",
    "    chroms_obj_record={} \n",
    "    for m in range(population_size*2):\n",
    "        results = graph_copy.apply_assignment(assignment_list = total_chromosome[m])\n",
    "        chroms_obj_record[m]=[1/results['overall_cost'], results['overall_skill_similarity'], results['overall_task_similarity'], 1/results['completed_time']]\n",
    "    return chroms_obj_record"
   ]
  },
  {
   "attachments": {},
   "cell_type": "markdown",
   "metadata": {},
   "source": [
    "## Apply NSGA2"
   ]
  },
  {
   "attachments": {},
   "cell_type": "markdown",
   "metadata": {},
   "source": [
    "## Experiments"
   ]
  },
  {
   "attachments": {},
   "cell_type": "markdown",
   "metadata": {},
   "source": [
    "### Setup parammeters"
   ]
  },
  {
   "cell_type": "code",
   "execution_count": 14,
   "metadata": {},
   "outputs": [],
   "source": [
    "# Initial Resouces\n",
    "POPULATION_SIZE = 100\n",
    "\n",
    "# Initial NSGA2 params\n",
    "NUMBER_ITERATION = 50\n",
    "CROSSOVER_RATE = 0.8\n",
    "MUTATION_RATE = 0.4\n",
    "MUTATION_SELECTION_RATE = 0.4\n"
   ]
  },
  {
   "attachments": {},
   "cell_type": "markdown",
   "metadata": {},
   "source": [
    "### Initial population"
   ]
  },
  {
   "cell_type": "code",
   "execution_count": 15,
   "metadata": {},
   "outputs": [],
   "source": [
    "population_list = initial_popular(graph = schedule_graph, population_size=POPULATION_SIZE)"
   ]
  },
  {
   "attachments": {},
   "cell_type": "markdown",
   "metadata": {},
   "source": [
    "### Running"
   ]
  },
  {
   "cell_type": "code",
   "execution_count": 16,
   "metadata": {},
   "outputs": [
    {
     "name": "stderr",
     "output_type": "stream",
     "text": [
      "  4%|▍         | 2/50 [00:00<00:02, 16.49it/s]"
     ]
    },
    {
     "name": "stdout",
     "output_type": "stream",
     "text": [
      "100 200\n"
     ]
    },
    {
     "name": "stderr",
     "output_type": "stream",
     "text": [
      "100%|██████████| 50/50 [00:03<00:00, 14.03it/s]\n"
     ]
    }
   ],
   "source": [
    "from tqdm import tqdm\n",
    "\n",
    "best_list,best_obj=[],[]\n",
    "for n in tqdm(range(NUMBER_ITERATION)):   \n",
    "    schedule_graph_copy = copy.deepcopy(schedule_graph)\n",
    "\n",
    "    parent_list=copy.deepcopy(population_list)\n",
    "    offspring_list=[] # danh sách children\n",
    "    \n",
    "    # Crossover\n",
    "    crossover_offspring = crossover(\n",
    "        population_list = population_list,\n",
    "        num_task = len(schedule_graph_copy.task_list),\n",
    "        population_size = POPULATION_SIZE\n",
    "    )\n",
    "    offspring_list.extend(crossover_offspring)\n",
    "\n",
    "    \n",
    "    # Mutation\n",
    "    offspring_list = mutation(\n",
    "        offspring_list = offspring_list,\n",
    "        num_task = len(schedule_graph_copy.task_list),\n",
    "        muation_selection_rate = MUTATION_SELECTION_RATE,\n",
    "        muation_rate = MUTATION_RATE\n",
    "    )\n",
    "    \n",
    "   \n",
    "    # Selection\n",
    "    total_chromosome= copy.deepcopy(np.concatenate((parent_list, np.array(offspring_list))))\n",
    "    chroms_obj_record = compute_fitness(\n",
    "        total_chromosome = total_chromosome,\n",
    "        graph_copy = schedule_graph_copy,\n",
    "        population_size = POPULATION_SIZE\n",
    "     )\n",
    "   \n",
    "    front=non_dominated_sorting(POPULATION_SIZE,chroms_obj_record)\n",
    "\n",
    "    population_list,new_pop=selection(\n",
    "        front = front,\n",
    "        population_size = POPULATION_SIZE,\n",
    "        chroms_obj_record = chroms_obj_record,\n",
    "        total_chromosome = total_chromosome)\n",
    "    \n",
    "    new_pop_obj=[chroms_obj_record[k] for k in new_pop] \n",
    "   \n",
    "    # Comparison\n",
    "    if n==0:\n",
    "        print(len(population_list), len(total_chromosome))\n",
    "        best_list=copy.deepcopy(population_list)\n",
    "        best_obj=copy.deepcopy(new_pop_obj)\n",
    "    \n",
    "    else:            \n",
    "        total_list=copy.deepcopy(population_list)+copy.deepcopy(best_list)\n",
    "        total_obj=copy.deepcopy(new_pop_obj)+copy.deepcopy(best_obj)\n",
    "        start_time = time.time()\n",
    "        \n",
    "        now_best_front=non_dominated_sorting(\n",
    "            population_size = POPULATION_SIZE,\n",
    "            chroms_obj_record = total_obj)\n",
    "        \n",
    "        best_list,best_pop=selection(\n",
    "            front = now_best_front,\n",
    "            population_size = POPULATION_SIZE,\n",
    "            chroms_obj_record = total_obj,\n",
    "            total_chromosome = total_list)\n",
    "\n",
    "        best_obj=[total_obj[k] for k in best_pop]"
   ]
  },
  {
   "attachments": {},
   "cell_type": "markdown",
   "metadata": {},
   "source": [
    "### Evaluate"
   ]
  },
  {
   "cell_type": "code",
   "execution_count": 17,
   "metadata": {},
   "outputs": [
    {
     "name": "stdout",
     "output_type": "stream",
     "text": [
      "-----Results -----------------------------\n",
      "One chromosome(1x100)= [2 0 2]\n",
      "best_obj= [0.0035460992907801418, 2.8164965809277263, 4.0, 0.058823529411764705]\n",
      "------------------------------------------\n",
      "The elapsed time:0.07537198066711426\n"
     ]
    }
   ],
   "source": [
    "print('-----Results -----------------------------')\n",
    "print(\"One chromosome(1x100)=\",best_list[0])\n",
    "print(\"best_obj=\",best_obj[0])\n",
    "print(\"------------------------------------------\")\n",
    "print('The elapsed time:%s'% (time.time() - start_time))"
   ]
  },
  {
   "cell_type": "code",
   "execution_count": 18,
   "metadata": {},
   "outputs": [],
   "source": [
    "import pandas as pd\n",
    "df = pd.DataFrame(best_obj, columns = ['cost', 'assigned_level', 'quality', 'completed_time'])"
   ]
  },
  {
   "attachments": {},
   "cell_type": "markdown",
   "metadata": {},
   "source": [
    "### Visualize"
   ]
  },
  {
   "cell_type": "code",
   "execution_count": 19,
   "metadata": {},
   "outputs": [
    {
     "name": "stdout",
     "output_type": "stream",
     "text": [
      "assigments: [2 0 2]\n",
      "output: {'overall_cost': 282, 'overall_skill_similarity': 2.8164965809277263, 'overall_task_similarity': 4.0, 'completed_time': 17}\n"
     ]
    },
    {
     "data": {
      "image/png": "[encoded data removed]",
      "text/plain": [
       "<Figure size 1200x600 with 2 Axes>"
      ]
     },
     "metadata": {},
     "output_type": "display_data"
    }
   ],
   "source": [
    "index = 0\n",
    "output = schedule_graph.apply_assignment(assignment_list = best_list[index])\n",
    "print(f\"assigments: {best_list[index]}\")\n",
    "print(f\"output: {output}\")\n",
    "\n",
    "schedule_graph.visualize()"
   ]
  },
  {
   "cell_type": "code",
   "execution_count": 20,
   "metadata": {},
   "outputs": [
    {
     "data": {
      "text/plain": [
       "NodeDataView({'START': {'duration': 0, 'required_skills': {}, 'start_time': 0, 'finish_time': 0}, 'T1.1': {'duration': 3, 'required_skills': {'S4': 1, 'S5': 1, 'S6': 1}, 'start_time': 7, 'finish_time': 10, 'workforce_similarity': {'W1': 0.25819888974716115, 'W2': 0.0, 'W6': 1.0000000000000002}, 'workforce_cost': {'W1': 54, 'W2': 57, 'W6': 72}, 'available_workforce': {'W1': False, 'W2': False, 'W6': True}}, 'T1.2': {'duration': 5, 'required_skills': {'S3': 2, 'S4': 1}, 'start_time': 1, 'finish_time': 6, 'workforce_similarity': {'W1': 0.9999999999999999, 'W2': 0.8944271909999159, 'W6': 0.25819888974716115}, 'workforce_cost': {'W1': 90, 'W2': 95, 'W6': 120}, 'available_workforce': {'W1': True, 'W2': False, 'W6': False}}, 'T1.3': {'duration': 5, 'required_skills': {'S5': 1, 'S4': 1}, 'start_time': 11, 'finish_time': 16, 'workforce_similarity': {'W1': 0.3162277660168379, 'W2': 0.0, 'W6': 0.816496580927726}, 'workforce_cost': {'W1': 90, 'W2': 95, 'W6': 120}, 'available_workforce': {'W1': False, 'W2': False, 'W6': True}}, 'END': {'duration': 0, 'required_skills': {}, 'start_time': 17, 'finish_time': 17}})"
      ]
     },
     "execution_count": 20,
     "metadata": {},
     "output_type": "execute_result"
    }
   ],
   "source": [
    "schedule_graph.nodes(data=True)"
   ]
  }
 ],
 "metadata": {
  "kernelspec": {
   "display_name": "nlp03",
   "language": "python",
   "name": "python3"
  },
  "language_info": {
   "codemirror_mode": {
    "name": "ipython",
    "version": 3
   },
   "file_extension": ".py",
   "mimetype": "text/x-python",
   "name": "python",
   "nbconvert_exporter": "python",
   "pygments_lexer": "ipython3",
   "version": "3.8.16"
  },
  "orig_nbformat": 4
 },
 "nbformat": 4,
 "nbformat_minor": 2
}
