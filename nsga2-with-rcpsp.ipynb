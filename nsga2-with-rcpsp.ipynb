{
 "cells": [
  {
   "cell_type": "code",
   "execution_count": null,
   "metadata": {},
   "outputs": [],
   "source": [
    "import json\n",
    "from graph import ScheduleGraph\n",
    "import pandas as pd\n",
    "import numpy as np\n",
    "import time\n",
    "import copy"
   ]
  },
  {
   "attachments": {},
   "cell_type": "markdown",
   "metadata": {},
   "source": [
    "## 1. Prepare planning data"
   ]
  },
  {
   "cell_type": "code",
   "execution_count": null,
   "metadata": {},
   "outputs": [],
   "source": [
    "PLANING_PATH = 'data/planning.json'\n",
    "f = open(PLANING_PATH, 'rb')\n",
    "planning_data = json.load(f)"
   ]
  },
  {
   "cell_type": "code",
   "execution_count": null,
   "metadata": {},
   "outputs": [],
   "source": [
    "schedule_graph = ScheduleGraph(planning_id = planning_data['planning_id'])"
   ]
  },
  {
   "cell_type": "code",
   "execution_count": null,
   "metadata": {},
   "outputs": [],
   "source": [
    "\n",
    "schedule_data = planning_data['schedule']"
   ]
  },
  {
   "cell_type": "code",
   "execution_count": null,
   "metadata": {},
   "outputs": [],
   "source": [
    "# Load data schedule to ScheduleGraph\n",
    "schedule_graph.load_schedule(schedule_data)"
   ]
  },
  {
   "cell_type": "code",
   "execution_count": null,
   "metadata": {},
   "outputs": [],
   "source": [
    "# set budget & duration\n",
    "\n",
    "schedule_graph.set_budget_contraints(budget = 3000)\n",
    "schedule_graph.set_planned_duration_constraint(duration = 20)"
   ]
  },
  {
   "cell_type": "code",
   "execution_count": null,
   "metadata": {},
   "outputs": [],
   "source": [
    "# visualize task similality\n",
    "schedule_graph.task_similarity_heatmap()"
   ]
  },
  {
   "attachments": {},
   "cell_type": "markdown",
   "metadata": {},
   "source": [
    "## 2. Load workforce"
   ]
  },
  {
   "cell_type": "code",
   "execution_count": null,
   "metadata": {},
   "outputs": [],
   "source": [
    "WORKFORCE_DATA_PATH = '/Users/pvm/Desktop/Đồ Án/data/workforces.json'\n",
    "f = open(WORKFORCE_DATA_PATH, 'rb')\n",
    "workforce_data = json.load(f)\n",
    "schedule_graph.load_workforce(workforce_data = workforce_data)"
   ]
  },
  {
   "attachments": {},
   "cell_type": "markdown",
   "metadata": {},
   "source": [
    "# 4. Load Contraints"
   ]
  },
  {
   "attachments": {},
   "cell_type": "markdown",
   "metadata": {},
   "source": [
    "## NSGA2 helper"
   ]
  },
  {
   "attachments": {},
   "cell_type": "markdown",
   "metadata": {},
   "source": [
    "### 1. Initial population"
   ]
  },
  {
   "cell_type": "code",
   "execution_count": null,
   "metadata": {},
   "outputs": [],
   "source": [
    "def initial_popular(graph: ScheduleGraph, population_size: int) -> list:\n",
    "    num_of_tasks = len(graph.task_list)\n",
    "    population_list = np.empty((population_size, num_of_tasks), dtype=int)\n",
    "    workforce_list = graph.workforce_list\n",
    "    for i in range(population_size):\n",
    "        for j in range(num_of_tasks):\n",
    "            task = graph.task_list[j]\n",
    "            available_workforce = graph.nodes[task]['available_workforce']\n",
    "            available_workforce_indices = [index for index, value in enumerate(available_workforce.values()) if value]\n",
    "            selected_index = np.random.choice(available_workforce_indices)\n",
    "            selected_workforce = list(available_workforce.keys())[selected_index]\n",
    "            population_list[i, j] = workforce_list.index(selected_workforce)\n",
    "\n",
    "    return population_list"
   ]
  },
  {
   "cell_type": "code",
   "execution_count": null,
   "metadata": {},
   "outputs": [],
   "source": [
    "def crossover(population_list, num_task: int, population_size: int):\n",
    "    cosssover_offspring = [] # danh sách con cái được tạo ra từ crossover\n",
    "    # Lấy ngẫu nhiên 2 parents\n",
    "    random_parent_indices = list(np.random.permutation(population_size)) # generate a random sequence to select the parent chromosome to crossover\n",
    "    for m in range(int(population_size/2)):\n",
    "        parent_1= population_list[random_parent_indices[2*m]][:]\n",
    "\n",
    "        parent_2= population_list[random_parent_indices[2*m+1]][:]\n",
    "        child_1=parent_1[:]\n",
    "        child_2=parent_2[:]\n",
    "        \n",
    "        # Lấy ngẫu nhiên 2 đoạn bất kỳ trong parent 1 chuyển cho parent 2\n",
    "        cutpoint=list(np.random.choice(num_task, 2, replace=False))\n",
    "        cutpoint.sort()\n",
    "        child_1[cutpoint[0]:cutpoint[1]]=parent_2[cutpoint[0]:cutpoint[1]]\n",
    "        child_2[cutpoint[0]:cutpoint[1]]=parent_1[cutpoint[0]:cutpoint[1]]\n",
    "        \n",
    "        cosssover_offspring.extend((child_1,child_2))\n",
    "    return cosssover_offspring"
   ]
  },
  {
   "cell_type": "code",
   "execution_count": null,
   "metadata": {},
   "outputs": [],
   "source": [
    "def mutation(offspring_list, num_task: int, muation_selection_rate: float, muation_rate: float):\n",
    "    num_mutation_jobs = round(num_task*muation_selection_rate)\n",
    "    # Thực hiện đảo ngược 1 gen\n",
    "    for m in range(len(offspring_list)):\n",
    "        mutation_prob=np.random.rand()\n",
    "        if muation_rate <= mutation_prob:\n",
    "            # chooses the position to mutation\n",
    "            m_chg=list(np.random.choice(num_task, num_mutation_jobs, replace=False))\n",
    "            # save the value which is on the first mutation position\n",
    "            \n",
    "            t_value_last=offspring_list[m][m_chg[0]] \n",
    "            \n",
    "            for i in range(num_mutation_jobs-1):\n",
    "                offspring_list[m][m_chg[i]]=offspring_list[m][m_chg[i+1]] # displacement\n",
    "            \n",
    "            offspring_list[m][m_chg[num_mutation_jobs-1]]=t_value_last\n",
    "\n",
    "    return offspring_list"
   ]
  },
  {
   "cell_type": "code",
   "execution_count": null,
   "metadata": {},
   "outputs": [],
   "source": [
    "def non_dominated_sorting(population_size, chroms_obj_record):\n",
    "    solution, non_dominate = {}, {}\n",
    "    front, rank = {}, {}\n",
    "    front[0] = []\n",
    "\n",
    "    for p in range(population_size*2):\n",
    "        solution[p] = []\n",
    "        non_dominate[p] = 0\n",
    "        for q in range(population_size * 2):\n",
    "            is_dominated = False\n",
    "            dominated_count = 0\n",
    "            for obj in range(len(chroms_obj_record[p])):\n",
    "               \n",
    "                if chroms_obj_record[p][obj] > chroms_obj_record[q][obj]:\n",
    "                    dominated_count += 1\n",
    "                elif chroms_obj_record[p][obj] < chroms_obj_record[q][obj]:\n",
    "                    is_dominated = True\n",
    "                    break\n",
    "               \n",
    "            if is_dominated:\n",
    "                if q not in solution[p]:\n",
    "                    solution[p].append(q)\n",
    "\n",
    "            elif not is_dominated and dominated_count == len(chroms_obj_record[p]):\n",
    "                non_dominate[p] = non_dominate[p] + 1\n",
    "\n",
    "    \n",
    "        if non_dominate[p] == 0:\n",
    "            rank[p] = 0\n",
    "            if p not in front[0]:\n",
    "                front[0].append(p)\n",
    "    \n",
    "    \n",
    "    i = 0\n",
    "    while front[i] != []:\n",
    "        Q = []\n",
    "        for p in front[i]:\n",
    "            for q in solution[p]:\n",
    "                non_dominate[q] = non_dominate[q] - 1\n",
    "                if non_dominate[q] == 0:\n",
    "                    rank[q] = i + 1\n",
    "                    if q not in Q:\n",
    "                        Q.append(q)\n",
    "        i = i + 1\n",
    "        front[i] = Q\n",
    "\n",
    "    del front[len(front) - 1]\n",
    "    return front\n",
    "\n",
    "\n",
    "def calculate_crowding_distance(front,chroms_obj_record):\n",
    "    distance={m:0 for m in front}\n",
    "    for o in range(len(chroms_obj_record[0])):\n",
    "        obj={m:chroms_obj_record[m][o] for m in front}\n",
    "        sorted_keys=sorted(obj, key=obj.get)\n",
    "        distance[sorted_keys[0]]=distance[sorted_keys[len(front)-1]]=999999999999\n",
    "        for i in range(1,len(front)-1):\n",
    "            if len(set(obj.values()))==1:\n",
    "                distance[sorted_keys[i]]=distance[sorted_keys[i]]\n",
    "            else:\n",
    "                distance[sorted_keys[i]]=distance[sorted_keys[i]]+(obj[sorted_keys[i+1]]-obj[sorted_keys[i-1]])/(obj[sorted_keys[len(front)-1]]-obj[sorted_keys[0]])\n",
    "            \n",
    "    return distance  "
   ]
  },
  {
   "cell_type": "code",
   "execution_count": null,
   "metadata": {},
   "outputs": [],
   "source": [
    "\n",
    "def selection(front, population_size: int, chroms_obj_record: list, total_chromosome: list):   \n",
    "    N=0\n",
    "    new_pop=[]\n",
    "    print(\"start selection.....\")\n",
    "    while N < population_size:\n",
    "        for i in range(len(front)):\n",
    "            \n",
    "            if N > population_size:\n",
    "                # Compare on each front after append solution with higher distance to new_pop\n",
    "                distance=calculate_crowding_distance(front[i],chroms_obj_record)\n",
    "                sorted_cdf=sorted(distance, key=distance.get)\n",
    "                sorted_cdf.reverse()\n",
    "                for j in sorted_cdf:\n",
    "                    if len(new_pop)==population_size:\n",
    "                        break   \n",
    "                    if chroms_obj_record[j][1] > 0:\n",
    "                        new_pop.append(j)       \n",
    "                        N += 1       \n",
    "                break\n",
    "            else:\n",
    "                for index in front[i]:\n",
    "                    if chroms_obj_record[index][1] > 0: \n",
    "                        \n",
    "                        new_pop.append(index)\n",
    "                        N += 1\n",
    "    \n",
    "    print(\"Done selection.....\")\n",
    "    population_list=[]\n",
    "    for n in new_pop:\n",
    "        population_list.append(total_chromosome[n])\n",
    "    \n",
    "    print(f\"population_list: {len(population_list)}\")\n",
    "    print(f\"new_pop: {len(new_pop)}\")\n",
    "    return population_list, new_pop"
   ]
  },
  {
   "cell_type": "code",
   "execution_count": null,
   "metadata": {},
   "outputs": [],
   "source": [
    "def compute_fitness(graph_copy: ScheduleGraph, total_chromosome: list, population_size: int):\n",
    "    chroms_obj_record={} \n",
    "    for m in range(population_size*2):\n",
    "        results = graph_copy.apply_assignment(assignment_list = total_chromosome[m])\n",
    "        chroms_obj_record[m]=[1/results['actual_cost'], results['mapping_similarity'], results['assigned_similarity'], 1/results['actual_duration']]\n",
    "    return chroms_obj_record"
   ]
  },
  {
   "attachments": {},
   "cell_type": "markdown",
   "metadata": {},
   "source": [
    "## NSGA2 Experiment"
   ]
  },
  {
   "attachments": {},
   "cell_type": "markdown",
   "metadata": {},
   "source": [
    "### Setup parammeters"
   ]
  },
  {
   "cell_type": "code",
   "execution_count": null,
   "metadata": {},
   "outputs": [],
   "source": [
    "# Initial Resouces\n",
    "POPULATION_SIZE = 200\n",
    "\n",
    "# Initial NSGA2 params\n",
    "NUMBER_ITERATION = 10\n",
    "CROSSOVER_RATE = 0.8\n",
    "MUTATION_RATE = 0.4\n",
    "MUTATION_SELECTION_RATE = 0.4\n"
   ]
  },
  {
   "attachments": {},
   "cell_type": "markdown",
   "metadata": {},
   "source": [
    "### Initial population"
   ]
  },
  {
   "cell_type": "code",
   "execution_count": null,
   "metadata": {},
   "outputs": [],
   "source": [
    "population_list = initial_popular(graph = schedule_graph, population_size=POPULATION_SIZE)"
   ]
  },
  {
   "cell_type": "code",
   "execution_count": null,
   "metadata": {},
   "outputs": [],
   "source": [
    "population_list"
   ]
  },
  {
   "attachments": {},
   "cell_type": "markdown",
   "metadata": {},
   "source": [
    "### Running"
   ]
  },
  {
   "cell_type": "code",
   "execution_count": null,
   "metadata": {},
   "outputs": [],
   "source": [
    "from tqdm import tqdm\n",
    "\n",
    "best_list,best_obj=[],[]\n",
    "for n in tqdm(range(NUMBER_ITERATION)):   \n",
    "    schedule_graph_copy = copy.deepcopy(schedule_graph)\n",
    "\n",
    "    parent_list=copy.deepcopy(population_list)\n",
    "    offspring_list=[] # danh sách children\n",
    "    \n",
    "    # Crossover\n",
    "    crossover_offspring = crossover(\n",
    "        population_list = population_list,\n",
    "        num_task = len(schedule_graph_copy.task_list),\n",
    "        population_size = POPULATION_SIZE\n",
    "    )\n",
    "    offspring_list.extend(crossover_offspring)\n",
    "\n",
    "    \n",
    "    # Mutation\n",
    "    offspring_list = mutation(\n",
    "        offspring_list = offspring_list,\n",
    "        num_task = len(schedule_graph_copy.task_list),\n",
    "        muation_selection_rate = MUTATION_SELECTION_RATE,\n",
    "        muation_rate = MUTATION_RATE\n",
    "    )\n",
    "    \n",
    "   \n",
    "    # Selection\n",
    "    total_chromosome= copy.deepcopy(np.concatenate((parent_list, np.array(offspring_list))))\n",
    "    chroms_obj_record = compute_fitness(\n",
    "        total_chromosome = total_chromosome,\n",
    "        graph_copy = schedule_graph_copy,\n",
    "        population_size = POPULATION_SIZE\n",
    "     )\n",
    "   \n",
    "    front=non_dominated_sorting(POPULATION_SIZE,chroms_obj_record)\n",
    "\n",
    "    population_list,new_pop=selection(\n",
    "        front = front,\n",
    "        population_size = POPULATION_SIZE,\n",
    "        chroms_obj_record = chroms_obj_record,\n",
    "        total_chromosome = total_chromosome)\n",
    "    \n",
    "    new_pop_obj=[chroms_obj_record[k] for k in new_pop] \n",
    "   \n",
    "    # Comparison\n",
    "    if n==0:\n",
    "        best_list=copy.deepcopy(population_list)\n",
    "        best_obj=copy.deepcopy(new_pop_obj)\n",
    "    \n",
    "    else:            \n",
    "        total_list=copy.deepcopy(population_list)+copy.deepcopy(best_list)\n",
    "        total_obj=copy.deepcopy(new_pop_obj)+copy.deepcopy(best_obj)\n",
    "        start_time = time.time()\n",
    "        \n",
    "        now_best_front=non_dominated_sorting(\n",
    "            population_size = POPULATION_SIZE,\n",
    "            chroms_obj_record = total_obj)\n",
    "        \n",
    "        best_list,best_pop=selection(\n",
    "            front = now_best_front,\n",
    "            population_size = POPULATION_SIZE,\n",
    "            chroms_obj_record = total_obj,\n",
    "            total_chromosome = total_list)\n",
    "\n",
    "        best_obj=[total_obj[k] for k in best_pop]"
   ]
  },
  {
   "attachments": {},
   "cell_type": "markdown",
   "metadata": {},
   "source": [
    "### Evaluate"
   ]
  },
  {
   "cell_type": "code",
   "execution_count": null,
   "metadata": {},
   "outputs": [],
   "source": [
    "print('-----Results -----------------------------')\n",
    "print(\"One chromosome(1x100)=\",best_list[0])\n",
    "print(\"best_obj=\",best_obj[0])\n",
    "print(\"------------------------------------------\")\n",
    "print('The elapsed time:%s'% (time.time() - start_time))"
   ]
  },
  {
   "cell_type": "code",
   "execution_count": null,
   "metadata": {},
   "outputs": [],
   "source": [
    "import pandas as pd\n",
    "df = pd.DataFrame(best_obj, columns = ['cost', 'assigned_level', 'quality', 'completed_time'])\n",
    "df['solution'] = best_list"
   ]
  },
  {
   "cell_type": "code",
   "execution_count": null,
   "metadata": {},
   "outputs": [],
   "source": [
    "df.describe()"
   ]
  },
  {
   "cell_type": "code",
   "execution_count": null,
   "metadata": {},
   "outputs": [],
   "source": [
    "def estimate(graph: ScheduleGraph, assignment_list: list):\n",
    "    return graph.apply_assignment(assignment_list=assignment_list)"
   ]
  },
  {
   "cell_type": "code",
   "execution_count": null,
   "metadata": {},
   "outputs": [],
   "source": [
    "estimate(graph = schedule_graph, assignment_list = best_list[0])"
   ]
  },
  {
   "attachments": {},
   "cell_type": "markdown",
   "metadata": {},
   "source": [
    "### Visualize"
   ]
  },
  {
   "cell_type": "code",
   "execution_count": null,
   "metadata": {},
   "outputs": [],
   "source": [
    "top = 2\n",
    "\n",
    "output = schedule_graph.apply_assignment(assignment_list = best_list[top])\n",
    "print(f\"assigments: {best_list[top]}\")\n",
    "print(f\"output: {output}\")\n",
    "\n",
    "schedule_graph.visualize()"
   ]
  },
  {
   "cell_type": "code",
   "execution_count": null,
   "metadata": {},
   "outputs": [],
   "source": [
    "import random\n",
    "\n",
    "num_tasks = 100\n",
    "\n",
    "# Tạo ma trận TaskAdjacency với giá trị mặc định là 0 cho tất cả các cặp task\n",
    "task_duration = [random.randint(1, 10) for _ in range(0, num_tasks) ]\n",
    "task_duration[0] = 0\n",
    "task_duration[num_tasks -1] = 0\n",
    "\n",
    "print(task_duration)"
   ]
  },
  {
   "cell_type": "code",
   "execution_count": 1,
   "metadata": {},
   "outputs": [],
   "source": [
    "import numpy as np\n",
    "import random\n",
    "\n",
    "def create_binary_adjacency_matrix(num_tasks):\n",
    "    matrix = np.zeros((num_tasks, num_tasks), dtype=int)\n",
    "    \n",
    "    # Generate dependencies for each task\n",
    "    for i in range(num_tasks):\n",
    "        if i == 0:\n",
    "            continue  # Skip the first task as it will be the start node\n",
    "        num_dependencies = random.randint(1, min(3, i))  # Ensure at least one dependency\n",
    "        dependencies = random.sample(range(i), num_dependencies)\n",
    "        \n",
    "        for dependency in dependencies:\n",
    "            matrix[i, dependency] = 1\n",
    "    \n",
    "    # Connect start node (first task) to random tasks\n",
    "    start_node_dependencies = random.sample(range(1, num_tasks), random.randint(0, min(3, num_tasks-1)))\n",
    "    for dependency in start_node_dependencies:\n",
    "        matrix[0, dependency] = 1\n",
    "    \n",
    "    # Connect random tasks to finish node (last task)\n",
    "    finish_node_dependencies = random.sample(range(num_tasks-1), random.randint(0, min(3, num_tasks-1)))\n",
    "    for dependency in finish_node_dependencies:\n",
    "        matrix[dependency, num_tasks-1] = 1\n",
    "    \n",
    "    return matrix\n",
    "\n",
    "\n"
   ]
  },
  {
   "cell_type": "code",
   "execution_count": 2,
   "metadata": {},
   "outputs": [],
   "source": [
    "import networkx as nx\n",
    "import os\n",
    "from networkx.drawing.nx_pydot import graphviz_layout\n",
    "import matplotlib.pyplot as plt\n",
    "import numpy as np\n",
    "\n",
    "\n",
    "def write_matrix(matrix, file_name):\n",
    "    \n",
    "    # Tạo đường dẫn đến tệp tin\n",
    "    file_path = os.path.join(FOLDER_NAME, file_name)\n",
    "\n",
    "    # Ghi ma trận vào tệp tin\n",
    "    with open(file_path, 'w') as f:\n",
    "        rows, cols = matrix.shape\n",
    "        for i in range(rows):\n",
    "            for j in range(cols):\n",
    "                f.write(str(matrix[i, j]) + ' ')\n",
    "            f.write('\\n')\n",
    "\n",
    "    return file_path\n",
    "\n",
    "\n",
    "def save_pert_chart(TaskAdjacency):\n",
    "    graph = nx.DiGraph()\n",
    "\n",
    "    for i in range(len(TaskAdjacency)):\n",
    "        graph.add_node(i)\n",
    "        predencors = TaskAdjacency[i]\n",
    "        for j in range(len(predencors)):\n",
    "            if predencors[j] == 1:\n",
    "                graph.add_edge(j, i)\n",
    "\n",
    "\n",
    "    pos = graphviz_layout(graph, prog=\"dot\")\n",
    "    for k,v in pos.items():\n",
    "        pos[k]=(-v[1],v[0])\n",
    "    nx.draw_networkx_nodes(graph,pos = pos, node_shape = 's', node_size = 200, \n",
    "                        node_color = 'none', edgecolors='k')\n",
    "    nx.draw_networkx_edges(graph,pos = pos, \n",
    "                        node_shape = 's', width = 1,  node_size = 200)\n",
    "    nx.draw_networkx_labels(graph,pos = pos, font_size = 5)\n",
    "\n",
    "    \n",
    "    # Set up the figure size\n",
    "    plt.figure(figsize=(10, 2))\n",
    "\n",
    "    plt.savefig(f\"{FOLDER_NAME}/pert.png\")\n",
    "    # Display the heatmap\n",
    "    plt.show()\n"
   ]
  },
  {
   "cell_type": "code",
   "execution_count": 3,
   "metadata": {},
   "outputs": [
    {
     "name": "stderr",
     "output_type": "stream",
     "text": [
      "/var/folders/rn/hgwpqjn159ng5gy4gt_0wff40000gn/T/ipykernel_3040/3830429170.py:35: DeprecationWarning: nx.nx_pydot.graphviz_layout depends on the pydot package, which hasknown issues and is not actively maintained. Consider usingnx.nx_agraph.graphviz_layout instead.\n",
      "\n",
      "See https://github.com/networkx/networkx/issues/5723\n",
      "  pos = graphviz_layout(graph, prog=\"dot\")\n"
     ]
    },
    {
     "data": {
      "image/png": "[encoded data removed]",
      "text/plain": [
       "<Figure size 640x480 with 1 Axes>"
      ]
     },
     "metadata": {},
     "output_type": "display_data"
    },
    {
     "data": {
      "text/plain": [
       "<Figure size 1000x200 with 0 Axes>"
      ]
     },
     "metadata": {},
     "output_type": "display_data"
    }
   ],
   "source": [
    "import numpy as np\n",
    "import random\n",
    "import time\n",
    "import os\n",
    "\n",
    "\n",
    "\n",
    "\n",
    "def generate_skill(num_skill, num_tasks):\n",
    "    # Tạo ma trận TaskAdjacency với giá trị mặc định là 0 cho tất cả các cặp task\n",
    "    task_skill = np.zeros((num_tasks, num_skill), dtype=int)\n",
    "\n",
    "    # Đặt giá trị ngẫu nhiên (0 hoặc 1) cho các cặp task từ task 1 đến task 98\n",
    "    for i in range(1, num_tasks - 1):\n",
    "        task_skill[i] = np.random.randint(0, 6, size=num_skill)\n",
    "\n",
    "    write_matrix(task_skill, file_name = \"skill.txt\")\n",
    "    \n",
    "\n",
    "def generate_duration(num_tasks):\n",
    "    import random\n",
    "\n",
    "    # Tạo ma trận TaskAdjacency với giá trị mặc định là 0 cho tất cả các cặp task\n",
    "    task_duration = [random.randint(1, 10) for _ in range(0, num_tasks) ]\n",
    "    task_duration[0] = 0\n",
    "    task_duration[-1] = 0\n",
    "    write_matrix(np.array([task_duration]), file_name = \"duration.txt\")\n",
    "\n",
    "def generate_predence_matrix(num_tasks):\n",
    "    # Tạo đồ thị DAG ngẫu nhiên\n",
    "    graph = {}\n",
    "    for i in range(1, num_tasks):\n",
    "        dependencies = random.sample(range(i), random.randint(1, i))\n",
    "        graph[i] = dependencies\n",
    "\n",
    "    # Kiểm tra tính chu trình trong đồ thị\n",
    "    stack = []\n",
    "    visited = set()\n",
    "    for node in range(num_tasks):\n",
    "        if node not in visited:\n",
    "            if has_cycle(graph, node, visited, stack):\n",
    "                return None\n",
    "\n",
    "    # Tạo ma trận predence task\n",
    "    matrix = np.zeros((num_tasks, num_tasks), dtype=int)\n",
    "    for task, dependencies in graph.items():\n",
    "        for dependency in dependencies:\n",
    "            matrix[task, dependency] = 1\n",
    "\n",
    "    # Xóa cạnh trực tiếp từ node A đến node C nếu có cạnh từ node A đến node B và từ node B đến node C\n",
    "    for i in range(num_tasks):\n",
    "        for j in range(num_tasks):\n",
    "            if matrix[i, j] == 1:\n",
    "                for k in range(num_tasks):\n",
    "                    if matrix[j, k] == 1:\n",
    "                        matrix[i, k] = 0\n",
    "    \n",
    "    write_matrix(matrix, file_name = \"task_matrix.txt\")\n",
    "    save_pert_chart(matrix)\n",
    "    return matrix\n",
    "\n",
    "def has_cycle(graph, node, visited, stack):\n",
    "    visited.add(node)\n",
    "    stack.append(node)\n",
    "\n",
    "    for neighbor in graph.get(node, []):\n",
    "        if neighbor not in visited:\n",
    "            if has_cycle(graph, neighbor, visited, stack):\n",
    "                return True\n",
    "        elif neighbor in stack:\n",
    "            return True\n",
    "\n",
    "    stack.remove(node)\n",
    "    return False\n",
    "\n",
    "\n",
    "# Số lượng công việc\n",
    "num_tasks =  100\n",
    "num_skill = 10\n",
    "\n",
    "# Tạo tên thư mục duy nhất dựa trên thời gian\n",
    "FOLDER_NAME = str(int(time.time()))\n",
    "os.makedirs(FOLDER_NAME, exist_ok=True)\n",
    "\n",
    "generate_duration (num_tasks)\n",
    "generate_skill(num_skill = num_skill, num_tasks = num_tasks)\n",
    "matrix = generate_predence_matrix(num_tasks)"
   ]
  }
 ],
 "metadata": {
  "kernelspec": {
   "display_name": "nlp03",
   "language": "python",
   "name": "python3"
  },
  "language_info": {
   "codemirror_mode": {
    "name": "ipython",
    "version": 3
   },
   "file_extension": ".py",
   "mimetype": "text/x-python",
   "name": "python",
   "nbconvert_exporter": "python",
   "pygments_lexer": "ipython3",
   "version": "3.8.16"
  },
  "orig_nbformat": 4
 },
 "nbformat": 4,
 "nbformat_minor": 2
}
