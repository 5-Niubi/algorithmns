{
 "cells": [
  {
   "attachments": {},
   "cell_type": "markdown",
   "metadata": {},
   "source": [
    "# Initial"
   ]
  },
  {
   "cell_type": "code",
   "execution_count": 1,
   "metadata": {},
   "outputs": [],
   "source": [
    "# Random in position task in list task\n",
    "\n",
    "# Random in task assign resource (workforce and equipment) to task"
   ]
  },
  {
   "attachments": {},
   "cell_type": "markdown",
   "metadata": {},
   "source": [
    "# Contraints"
   ]
  },
  {
   "cell_type": "code",
   "execution_count": 2,
   "metadata": {},
   "outputs": [],
   "source": [
    "# Workforce not performance same time unit at more one task\n",
    "def avaibale_workforce_contraints():\n",
    "    # workforce must avaiable at timepoint (available in workloads, available in workschedule)\n",
    "    pass\n",
    "\n",
    "\n",
    "# Required skills on task must exited on workforce's skills and workforce's level skills must >= Required level skills\n",
    "def avaibale_skills_contraints(required_skills, workforce_skills):\n",
    "    pass\n",
    "\n",
    "def avaibale_equipments_contraints(required_equipments, equipment_inventory):\n",
    "    # Required equipments on task must equal equipments assigned\n",
    "\n",
    "    # Equipments must avaiable at time unit on task\n",
    "    pass\n",
    "\n",
    "\n",
    "# Complete time must <= Deadline\n",
    "def deadline_contraints(end_time, deadline):\n",
    "    pass"
   ]
  },
  {
   "attachments": {},
   "cell_type": "markdown",
   "metadata": {},
   "source": [
    "# Objectives"
   ]
  },
  {
   "attachments": {},
   "cell_type": "markdown",
   "metadata": {},
   "source": [
    "# NSGA2"
   ]
  },
  {
   "cell_type": "code",
   "execution_count": 4,
   "metadata": {},
   "outputs": [],
   "source": [
    "import pandas as pd\n",
    "import numpy as np\n",
    "import time\n",
    "import pandas as pd\n",
    "import copy"
   ]
  },
  {
   "attachments": {},
   "cell_type": "markdown",
   "metadata": {},
   "source": []
  },
  {
   "cell_type": "code",
   "execution_count": null,
   "metadata": {},
   "outputs": [],
   "source": []
  },
  {
   "cell_type": "code",
   "execution_count": 55,
   "metadata": {},
   "outputs": [],
   "source": [
    "import pandas as pd\n",
    "import numpy as np\n",
    "\n",
    "# Set the number of rows and columns\n",
    "num_task = 30\n",
    "num_vm = 10\n",
    "\n",
    "#-----Genetic Algorithm Paramaters ----------------\n",
    "population_size= 100\n",
    "num_iteration=500\n",
    "crossover_rate= 0.8\n",
    "mutation_rate= 0.3\n",
    "mutation_selection_rate= 0.4\n",
    "num_mutation_jobs=round(num_task*mutation_selection_rate)\n",
    "\n",
    "\n",
    "\n",
    "# Create column labels (VM1 to VM40)\n",
    "columns = ['VM{}'.format(i) for i in range(1, num_vm+1)]\n",
    "\n",
    "# Create row labels (T1 to T100)\n",
    "rows = ['T{}'.format(i) for i in range(1, num_task+1)]\n",
    "\n",
    "# Create a random DataFrame\n",
    "data = np.random.rand(num_task, num_vm)\n",
    "\n",
    "# Create the Pandas DataFrame\n",
    "Tasks_Vms_Cost = pd.DataFrame(data, index=rows, columns=columns)"
   ]
  },
  {
   "cell_type": "code",
   "execution_count": 49,
   "metadata": {},
   "outputs": [
    {
     "data": {
      "text/plain": [
       "12"
      ]
     },
     "execution_count": 49,
     "metadata": {},
     "output_type": "execute_result"
    }
   ],
   "source": [
    "num_mutation_jobs"
   ]
  },
  {
   "cell_type": "code",
   "execution_count": 57,
   "metadata": {},
   "outputs": [],
   "source": [
    "# Create a random DataFrame\n",
    "data = np.random.uniform(0.95, 1, size=(num_task, num_vm))\n",
    "Tasks_Vms_Reliability  = pd.DataFrame(data, index=rows, columns=columns)"
   ]
  },
  {
   "cell_type": "code",
   "execution_count": 59,
   "metadata": {},
   "outputs": [],
   "source": [
    "Task_Vm_Cost=[list(map(float, Tasks_Vms_Cost.iloc[i])) for i in range(num_task)]\n",
    "Task_Vm_Reliability=[list(map(float,Tasks_Vms_Reliability.iloc[i])) for i in range(num_task)]\n",
    "# start_time = time.time()"
   ]
  },
  {
   "cell_type": "code",
   "execution_count": 61,
   "metadata": {},
   "outputs": [
    {
     "data": {
      "text/plain": [
       "30"
      ]
     },
     "execution_count": 61,
     "metadata": {},
     "output_type": "execute_result"
    }
   ],
   "source": [
    "len(Task_Vm_Reliability)"
   ]
  },
  {
   "attachments": {},
   "cell_type": "markdown",
   "metadata": {},
   "source": [
    "## Non-dominated sorting"
   ]
  },
  {
   "cell_type": "code",
   "execution_count": null,
   "metadata": {},
   "outputs": [],
   "source": [
    "def dominate_strategy():\n",
    "\n",
    "    pass\n",
    "\n",
    "def non_dominated_sorting(population_size,chroms_obj_record):\n",
    "    \n",
    "    s, n = {},{} # s is stored solutions, n is count solutions dominate p\n",
    "    \n",
    "    front,rank={},{} \n",
    "    \n",
    "    front[0]=[]     \n",
    "    \n",
    "    for p in range(population_size*2):\n",
    "        s[p]=[]\n",
    "        n[p]=0\n",
    "        \n",
    "        for q in range(population_size*2):\n",
    "            \n",
    "            # if q not dominate p\n",
    "            if ((chroms_obj_record[p][0]>chroms_obj_record[q][0] and chroms_obj_record[p][1]<chroms_obj_record[q][1]) \n",
    "            or (chroms_obj_record[p][0]>=chroms_obj_record[q][0] and chroms_obj_record[p][1]<chroms_obj_record[q][1])\n",
    "            or (chroms_obj_record[p][0]>chroms_obj_record[q][0] and chroms_obj_record[p][1]<=chroms_obj_record[q][1])):\n",
    "                if q not in s[p]:\n",
    "                    s[p].append(q)\n",
    "            \n",
    "            # if q dominate p\n",
    "            elif ((chroms_obj_record[p][0]<chroms_obj_record[q][0] and chroms_obj_record[p][1]>chroms_obj_record[q][1]) \n",
    "            or (chroms_obj_record[p][0]<=chroms_obj_record[q][0] and chroms_obj_record[p][1]>chroms_obj_record[q][1])\n",
    "            or (chroms_obj_record[p][0]<chroms_obj_record[q][0] and chroms_obj_record[p][1]>=chroms_obj_record[q][1])):\n",
    "                n[p]=n[p]+1\n",
    "        \n",
    "        if n[p]==0:\n",
    "            rank[p]=0\n",
    "            if p not in front[0]:\n",
    "                front[0].append(p)\n",
    "    \n",
    "\n",
    "    # Create Front by rank\n",
    "    i=0\n",
    "    while (front[i]!=[]):\n",
    "        Q=[]\n",
    "        for p in front[i]:\n",
    "            for q in s[p]:\n",
    "                n[q]=n[q]-1\n",
    "                if n[q]==0:\n",
    "                    rank[q]=i+1\n",
    "                    if q not in Q:\n",
    "                        Q.append(q)\n",
    "        i=i+1\n",
    "        front[i]=Q\n",
    "                \n",
    "    del front[len(front)-1]\n",
    "    return front\n"
   ]
  },
  {
   "cell_type": "code",
   "execution_count": null,
   "metadata": {},
   "outputs": [],
   "source": [
    "###################################################\n",
    "#-----Calculate crowding distance function---------\n",
    "###################################################\n",
    "\n",
    "def calculate_crowding_distance(front,chroms_obj_record):\n",
    "    \n",
    "    distance={m:0 for m in front}\n",
    "    for o in range(2):\n",
    "        obj={m:chroms_obj_record[m][o] for m in front}\n",
    "        sorted_keys=sorted(obj, key=obj.get)\n",
    "        distance[sorted_keys[0]]=distance[sorted_keys[len(front)-1]]=999999999999 # Why latest front = 999999\n",
    "        for i in range(1,len(front)-1):\n",
    "            if len(set(obj.values()))==1:\n",
    "                distance[sorted_keys[i]]=distance[sorted_keys[i]]\n",
    "            else:\n",
    "                distance[sorted_keys[i]]=distance[sorted_keys[i]]+(obj[sorted_keys[i+1]]-obj[sorted_keys[i-1]])/(obj[sorted_keys[len(front)-1]]-obj[sorted_keys[0]])\n",
    "            \n",
    "    return distance  "
   ]
  },
  {
   "cell_type": "code",
   "execution_count": 7,
   "metadata": {},
   "outputs": [
    {
     "data": {
      "text/plain": [
       "[1, 2, 3]"
      ]
     },
     "execution_count": 7,
     "metadata": {},
     "output_type": "execute_result"
    }
   ],
   "source": [
    "obj = {3:6,1: 1,2:1}\n",
    "sorted(obj, key=obj.get)"
   ]
  },
  {
   "cell_type": "code",
   "execution_count": 18,
   "metadata": {},
   "outputs": [
    {
     "data": {
      "text/plain": [
       "[[0, 1, 2, 1, 1, 0, 2, 0, 2, 0],\n",
       " [0, 2, 1, 1, 0, 2, 2, 0, 1, 0],\n",
       " [1, 2, 0, 0, 1, 0, 2, 2, 0, 1],\n",
       " [0, 1, 2, 2, 1, 1, 0, 2, 0, 0],\n",
       " [0, 0, 1, 1, 0, 2, 2, 0, 1, 2],\n",
       " [0, 1, 1, 1, 0, 0, 2, 0, 2, 2],\n",
       " [0, 0, 1, 0, 2, 1, 2, 2, 0, 1],\n",
       " [1, 0, 2, 2, 0, 1, 0, 2, 1, 0],\n",
       " [1, 0, 0, 2, 1, 1, 2, 0, 0, 2],\n",
       " [0, 0, 1, 1, 0, 2, 1, 0, 2, 2]]"
      ]
     },
     "execution_count": 18,
     "metadata": {},
     "output_type": "execute_result"
    }
   ],
   "source": [
    "# Ngẫu nhiên assign resouce to Task\n",
    "population_list=[]\n",
    "population_size = 10\n",
    "num_task = 10\n",
    "num_vm = 3\n",
    "for i in range(population_size):\n",
    "    #print('i=',i)\n",
    "    nxm_random_num=list(np.random.permutation(num_task)) # generate a random permutation of 0 to num_job*num_mc-1\n",
    "    population_list.append(nxm_random_num) # add to the population_list\n",
    "    for j in range(num_task):\n",
    "        population_list[i][j]=population_list[i][j]%num_vm # convert to job number format, every job appears m times\n",
    "\n",
    "population_list"
   ]
  },
  {
   "cell_type": "code",
   "execution_count": 38,
   "metadata": {},
   "outputs": [
    {
     "data": {
      "text/plain": [
       "[9, 2, 6, 5, 7, 4, 1, 8, 3, 0]"
      ]
     },
     "execution_count": 38,
     "metadata": {},
     "output_type": "execute_result"
    }
   ],
   "source": [
    "list(np.random.permutation(num_task))"
   ]
  },
  {
   "cell_type": "code",
   "execution_count": 10,
   "metadata": {},
   "outputs": [
    {
     "name": "stdout",
     "output_type": "stream",
     "text": [
      "-----Results -----------------------------\n",
      "One chromosome(1x100)= [8, 8, 3, 7, 1, 3, 9, 9, 3, 3, 4, 8, 0, 6, 6, 1, 7, 4, 0, 2, 1, 1, 9, 8, 2, 9, 2, 3, 2, 0]\n",
      "[Reliability,Cost]= [0.8021592554949589, 9.54531862421403]\n",
      "------------------------------------------\n",
      "The elapsed time:29.8622989654541\n"
     ]
    }
   ],
   "source": [
    "###################################################\n",
    "#-----Main-----------------------------------------\n",
    "###################################################\n",
    "start_time = time.time() \n",
    "\n",
    "###################################################\n",
    "#-----Generate initial population------------------\n",
    "###################################################\n",
    "best_list,best_obj=[],[]\n",
    "\n",
    "\n",
    "        \n",
    "for n in range(num_iteration):         \n",
    "    ###################################################\n",
    "    #-----Crossover assign VM to task------------------------------------\n",
    "    ###################################################\n",
    "    parent_list=copy.deepcopy(population_list)\n",
    "    offspring_list=[] # danh sách children\n",
    "    \n",
    "    S=list(np.random.permutation(population_size)) # generate a random sequence to select the parent chromosome to crossover\n",
    "    \n",
    "    for m in range(int(population_size/2)):\n",
    "        \n",
    "        parent_1= population_list[S[2*m]][:]\n",
    "        parent_2= population_list[S[2*m+1]][:]\n",
    "        child_1=parent_1[:]\n",
    "        child_2=parent_2[:]\n",
    "        \n",
    "        cutpoint=list(np.random.choice(num_task, 2, replace=False))\n",
    "        cutpoint.sort()\n",
    "    \n",
    "        child_1[cutpoint[0]:cutpoint[1]]=parent_2[cutpoint[0]:cutpoint[1]]\n",
    "        child_2[cutpoint[0]:cutpoint[1]]=parent_1[cutpoint[0]:cutpoint[1]]\n",
    "        \n",
    "        offspring_list.extend((child_1,child_2))\n",
    "\n",
    "    ###################################################\n",
    "    #-----Mutation-------------------------------------\n",
    "    ###################################################\n",
    "    for m in range(len(offspring_list)):\n",
    "        mutation_prob=np.random.rand()\n",
    "        if mutation_rate <= mutation_prob:\n",
    "            m_chg=list(np.random.choice(num_task, num_mutation_jobs, replace=False)) # chooses the position to mutation\n",
    "            t_value_last=offspring_list[m][m_chg[0]] # save the value which is on the first mutation position\n",
    "            for i in range(num_mutation_jobs-1):\n",
    "                offspring_list[m][m_chg[i]]=offspring_list[m][m_chg[i+1]] # displacement\n",
    "            \n",
    "            offspring_list[m][m_chg[num_mutation_jobs-1]]=t_value_last\n",
    "                \n",
    "    ###################################################\n",
    "    #-----Fitness valuse ------------------------------\n",
    "    ###################################################               \n",
    "    total_chromosome=copy.deepcopy(parent_list)+copy.deepcopy(offspring_list)\n",
    "    chroms_obj_record={} \n",
    "    for m in range(population_size*2):\n",
    "        gen_c=0\n",
    "        gen_r=1\n",
    "        for nn in range(num_task):\n",
    "            # print(total_chromosome[m][nn])\n",
    "            gen_c +=Task_Vm_Cost[nn][total_chromosome[m][nn]]\n",
    "            gen_r *=Task_Vm_Reliability[nn][total_chromosome[m][nn]]\n",
    "        chroms_obj_record[m]=[gen_r,gen_c]\n",
    "        \n",
    "    ###################################################\n",
    "    #-----Non-dominated sorting -----------------------\n",
    "    ################################################### \n",
    "    front=non_dominated_sorting(population_size,chroms_obj_record)\n",
    "    \n",
    "    ###################################################\n",
    "    #-----Selection -----------------------------------\n",
    "    ###################################################         \n",
    "    population_list,new_pop=selection(population_size,front,chroms_obj_record,total_chromosome)\n",
    "    new_pop_obj=[chroms_obj_record[k] for k in new_pop] \n",
    "    \n",
    "    ###################################################\n",
    "    #-----Comparison ----------------------------------\n",
    "    ################################################### \n",
    "    if n==0:\n",
    "        best_list=copy.deepcopy(population_list)\n",
    "        best_obj=copy.deepcopy(new_pop_obj)\n",
    "    else:            \n",
    "        total_list=copy.deepcopy(population_list)+copy.deepcopy(best_list)\n",
    "        total_obj=copy.deepcopy(new_pop_obj)+copy.deepcopy(best_obj)\n",
    "        \n",
    "        now_best_front=non_dominated_sorting(population_size,total_obj)\n",
    "        best_list,best_pop=selection(population_size,now_best_front,total_obj,total_list)\n",
    "        best_obj=[total_obj[k] for k in best_pop]\n",
    "###################################################\n",
    "#-----Results ------------------------------------\n",
    "###################################################\n",
    "print('-----Results -----------------------------')\n",
    "print(\"One chromosome(1x100)=\",best_list[0])\n",
    "print(\"[Reliability,Cost]=\",best_obj[0])\n",
    "print(\"------------------------------------------\")\n",
    "print('The elapsed time:%s'% (time.time() - start_time))"
   ]
  },
  {
   "cell_type": "code",
   "execution_count": 28,
   "metadata": {},
   "outputs": [
    {
     "data": {
      "text/plain": [
       "[4, 1]"
      ]
     },
     "execution_count": 28,
     "metadata": {},
     "output_type": "execute_result"
    }
   ],
   "source": [
    "list(np.random.choice(10, 2, replace=False))"
   ]
  },
  {
   "attachments": {},
   "cell_type": "markdown",
   "metadata": {},
   "source": [
    "## Apply NSGA2"
   ]
  },
  {
   "cell_type": "code",
   "execution_count": 52,
   "metadata": {},
   "outputs": [],
   "source": [
    "# Initial Resouces\n",
    "NUM_WORKFORCE = 10\n",
    "NUM_TASK = 30\n",
    "\n",
    "# Initial NSGA2 params\n",
    "POPULATION_SIZE = 100\n",
    "NUMBER_ITERATION = 500\n",
    "CROSSOVER_RATE = 0.8\n",
    "\n",
    "MUTATION_SELECTION_RATE = 0.4\n"
   ]
  },
  {
   "cell_type": "code",
   "execution_count": 51,
   "metadata": {},
   "outputs": [
    {
     "data": {
      "text/plain": [
       "12"
      ]
     },
     "execution_count": 51,
     "metadata": {},
     "output_type": "execute_result"
    }
   ],
   "source": [
    "round(NUM_TASK*MUTATION_SELECTION_RATE)"
   ]
  },
  {
   "attachments": {},
   "cell_type": "markdown",
   "metadata": {},
   "source": [
    "### Initial workforce to task"
   ]
  },
  {
   "cell_type": "code",
   "execution_count": 44,
   "metadata": {},
   "outputs": [],
   "source": [
    "# Random assign workforce to task\n",
    "population_list=[]\n",
    "for i in range(POPULATION_SIZE):\n",
    "    nxm_random_num=list(np.random.permutation(NUM_TASK)) # generate a random permutation of 0 to num_job*num_mc-1\n",
    "    population_list.append(nxm_random_num) # add to the population_list\n",
    "    for j in range(num_task):\n",
    "        population_list[i][j]=population_list[i][j]%NUM_WORKFORCE # convert to job number format, every job appears m times"
   ]
  },
  {
   "attachments": {},
   "cell_type": "markdown",
   "metadata": {},
   "source": [
    "### NSGA2 Method"
   ]
  },
  {
   "cell_type": "code",
   "execution_count": 63,
   "metadata": {},
   "outputs": [],
   "source": [
    "def crossover(population_list):\n",
    "    cosssover_offspring = [] # danh sách con cái được tạo ra từ crossover\n",
    "    # Lấy ngẫu nhiên 2 parents\n",
    "    random_parent_indices =list(np.random.permutation(POPULATION_SIZE)) # generate a random sequence to select the parent chromosome to crossover\n",
    "    \n",
    "    for m in range(int(POPULATION_SIZE*CROSSOVER_RATE)):\n",
    "        parent_1= population_list[random_parent_indices[2*m]][:]\n",
    "        parent_2= population_list[random_parent_indices[2*m+1]][:]\n",
    "        child_1=parent_1[:]\n",
    "        child_2=parent_2[:]\n",
    "        \n",
    "        # Lấy ngẫu nhiên 2 đoạn bất kỳ trong parent 1 chuyển cho parent 2\n",
    "        cutpoint=list(np.random.choice(num_task, 2, replace=False))\n",
    "        cutpoint.sort()\n",
    "        child_1[cutpoint[0]:cutpoint[1]]=parent_2[cutpoint[0]:cutpoint[1]]\n",
    "        child_2[cutpoint[0]:cutpoint[1]]=parent_1[cutpoint[0]:cutpoint[1]]\n",
    "        \n",
    "        cosssover_offspring.extend((child_1,child_2))\n",
    "    return cosssover_offspring\n",
    "\n",
    "\n",
    "def mutation(offspring_list):\n",
    "    num_mutation_jobs = round(NUM_TASK*MUTATION_SELECTION_RATE)\n",
    "    \n",
    "    # Thực hiện đảo ngược 1 gen\n",
    "    for m in range(len(offspring_list)):\n",
    "        mutation_prob=np.random.rand()\n",
    "        if mutation_rate <= mutation_prob:\n",
    "            # chooses the position to mutation\n",
    "            m_chg=list(np.random.choice(num_task, num_mutation_jobs, replace=False))\n",
    "            # save the value which is on the first mutation position\n",
    "            t_value_last=offspring_list[m][m_chg[0]] \n",
    "            \n",
    "            for i in range(num_mutation_jobs-1):\n",
    "                offspring_list[m][m_chg[i]]=offspring_list[m][m_chg[i+1]] # displacement\n",
    "            \n",
    "            offspring_list[m][m_chg[num_mutation_jobs-1]]=t_value_last\n",
    "\n",
    "    return offspring_list\n",
    "\n",
    "\n",
    "def selection(front,chroms_obj_record,total_chromosome):   \n",
    "    N=0\n",
    "    new_pop=[]\n",
    "    while N < POPULATION_SIZE:\n",
    "        for i in range(len(front)):\n",
    "            N=N+len(front[i])\n",
    "            if N > POPULATION_SIZE:\n",
    "                # Compare on each front after append solution with higher distance to new_pop\n",
    "                distance=calculate_crowding_distance(front[i],chroms_obj_record)\n",
    "                sorted_cdf=sorted(distance, key=distance.get)\n",
    "                sorted_cdf.reverse()\n",
    "                for j in sorted_cdf:\n",
    "                    if len(new_pop)==population_size:\n",
    "                        break                \n",
    "                    new_pop.append(j)              \n",
    "                break\n",
    "            else:\n",
    "                new_pop.extend(front[i])\n",
    "    \n",
    "    population_list=[]\n",
    "    for n in new_pop:\n",
    "        population_list.append(total_chromosome[n])\n",
    "    \n",
    "    return population_list,new_pop\n",
    "\n",
    "    "
   ]
  },
  {
   "attachments": {},
   "cell_type": "markdown",
   "metadata": {},
   "source": [
    "### Objective"
   ]
  },
  {
   "cell_type": "code",
   "execution_count": null,
   "metadata": {},
   "outputs": [],
   "source": [
    "TASK_WORKFORCE_COST = None\n",
    "TASK_EQUIPMENT_COST = None\n",
    "TASK_SKILL_LEVEL = None\n",
    "TASK_SIMILARITY_MATRIX = None\n",
    "\n",
    "def cost_obj(chromosome):\n",
    "    workforce_cost = 0\n",
    "    equipment_cost = 0\n",
    "    for n in range(chromosome):\n",
    "        workforce_cost += TASK_WORKFORCE_COST[n][chromosome[n]]\n",
    "        equipment_cost += TASK_EQUIPMENT_COST[n][chromosome[n]]\n",
    "    \n",
    "    return equipment_cost + workforce_cost\n",
    "\n",
    "\n",
    "def assigned_level_obj(chromosome):\n",
    "    skill_level_total = 0\n",
    "    for n in range(chromosome):\n",
    "        skill_level_total += TASK_SKILL_LEVEL[n][chromosome[n]]\n",
    "    return skill_level_total\n",
    "\n",
    "\n",
    "def similarity_task_obj(chromosome):\n",
    "    # TASK_SIMILARITY_MATRIX[]\n",
    "    pass\n",
    "\n",
    "\n",
    "def complete_time_obj(chromosome):\n",
    "    # compute_complete_time\n",
    "    pass"
   ]
  },
  {
   "attachments": {},
   "cell_type": "markdown",
   "metadata": {},
   "source": [
    "### Fitness"
   ]
  },
  {
   "cell_type": "code",
   "execution_count": 62,
   "metadata": {},
   "outputs": [],
   "source": [
    "def compute_fitness(total_chromosome):\n",
    "    chroms_obj_record={} \n",
    "    for m in range(POPULATION_SIZE*2):\n",
    "        cost = cost_obj(total_chromosome[m])\n",
    "        assigned_level = assigned_level_obj(total_chromosome[m])\n",
    "        similarity_task = similarity_task_obj(total_chromosome[m])\n",
    "        complete_time = complete_time_obj(total_chromosome[m])\n",
    "\n",
    "        chroms_obj_record[m]=[cost,1/assigned_level, 1/similarity_task, 1/complete_time]\n",
    "\n",
    "    return chroms_obj_record"
   ]
  },
  {
   "attachments": {},
   "cell_type": "markdown",
   "metadata": {},
   "source": [
    "### Run"
   ]
  },
  {
   "cell_type": "code",
   "execution_count": null,
   "metadata": {},
   "outputs": [],
   "source": [
    "start_time = time.time() \n",
    "\n",
    "best_list,best_obj=[],[]\n",
    "for n in range(num_iteration):         \n",
    "\n",
    "    parent_list=copy.deepcopy(population_list)\n",
    "    offspring_list=[] # danh sách children\n",
    "    \n",
    "    # Crossover\n",
    "    crossover_offspring = crossover(population_list = population_list)\n",
    "    offspring_list.extend(crossover_offspring)\n",
    "\n",
    "    # Mutation\n",
    "    offspring_list = mutation(offspring_list = offspring_list)\n",
    "    \n",
    "    # Selection\n",
    "    total_chromosome=copy.deepcopy(parent_list)+copy.deepcopy(offspring_list)\n",
    "    chroms_obj_record = compute_fitness(total_chromosome)\n",
    "    front=non_dominated_sorting(population_size,chroms_obj_record)\n",
    " \n",
    "    population_list,new_pop=selection(population_size,front,chroms_obj_record,total_chromosome)\n",
    "    new_pop_obj=[chroms_obj_record[k] for k in new_pop] \n",
    "    \n",
    "    # Comparison\n",
    "    if n==0:\n",
    "        best_list=copy.deepcopy(population_list)\n",
    "        best_obj=copy.deepcopy(new_pop_obj)\n",
    "    else:            \n",
    "        total_list=copy.deepcopy(population_list)+copy.deepcopy(best_list)\n",
    "        total_obj=copy.deepcopy(new_pop_obj)+copy.deepcopy(best_obj)\n",
    "        \n",
    "        now_best_front=non_dominated_sorting(population_size,total_obj)\n",
    "        best_list,best_pop=selection(population_size,now_best_front,total_obj,total_list)\n",
    "        best_obj=[total_obj[k] for k in best_pop]\n",
    "\n",
    "\n",
    "print('-----Results -----------------------------')\n",
    "print(\"One chromosome(1x100)=\",best_list[0])\n",
    "print(\"[Reliability,Cost]=\",best_obj[0])\n",
    "print(\"------------------------------------------\")\n",
    "print('The elapsed time:%s'% (time.time() - start_time))"
   ]
  }
 ],
 "metadata": {
  "kernelspec": {
   "display_name": "nlp03",
   "language": "python",
   "name": "python3"
  },
  "language_info": {
   "codemirror_mode": {
    "name": "ipython",
    "version": 3
   },
   "file_extension": ".py",
   "mimetype": "text/x-python",
   "name": "python",
   "nbconvert_exporter": "python",
   "pygments_lexer": "ipython3",
   "version": "3.8.16"
  },
  "orig_nbformat": 4
 },
 "nbformat": 4,
 "nbformat_minor": 2
}
